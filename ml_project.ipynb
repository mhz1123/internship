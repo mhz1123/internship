{
  "nbformat": 4,
  "nbformat_minor": 0,
  "metadata": {
    "colab": {
      "name": "Untitled",
      "provenance": [],
      "collapsed_sections": [],
      "authorship_tag": "ABX9TyM8YS1NKopCrSrpx1yqWxPc",
      "include_colab_link": true
    },
    "kernelspec": {
      "name": "python3",
      "display_name": "Python 3"
    }
  },
  "cells": [
    {
      "cell_type": "markdown",
      "metadata": {
        "id": "view-in-github",
        "colab_type": "text"
      },
      "source": [
        "<a href=\"https://colab.research.google.com/github/mhz1123/internship/blob/master/ml_project.ipynb\" target=\"_parent\"><img src=\"https://colab.research.google.com/assets/colab-badge.svg\" alt=\"Open In Colab\"/></a>"
      ]
    },
    {
      "cell_type": "markdown",
      "metadata": {
        "id": "gRuOZNKOu6kx",
        "colab_type": "text"
      },
      "source": [
        "Step 1"
      ]
    },
    {
      "cell_type": "markdown",
      "metadata": {
        "id": "vMovW7mXXEn5",
        "colab_type": "text"
      },
      "source": [
        "1. Importing the required libraries"
      ]
    },
    {
      "cell_type": "code",
      "metadata": {
        "id": "-iIrSIa6SNgZ",
        "colab_type": "code",
        "colab": {}
      },
      "source": [
        "import numpy as np\n",
        "import pandas as pd\n",
        "import seaborn as sns\n",
        "import matplotlib.pyplot as plt\n",
        "%matplotlib inline\n",
        "\n",
        "data = pd.read_excel('Bank_Personal_Loan_Modelling.xlsx','Data')\n",
        "\n",
        "\n"
      ],
      "execution_count": null,
      "outputs": []
    },
    {
      "cell_type": "code",
      "metadata": {
        "id": "a8sbv_bCXbLQ",
        "colab_type": "code",
        "colab": {}
      },
      "source": [
        "data.head(10)"
      ],
      "execution_count": null,
      "outputs": []
    },
    {
      "cell_type": "code",
      "metadata": {
        "id": "5koeeN17Xdm9",
        "colab_type": "code",
        "colab": {}
      },
      "source": [
        "data.tail(10)"
      ],
      "execution_count": null,
      "outputs": []
    },
    {
      "cell_type": "code",
      "metadata": {
        "id": "9JsOMXTAXgSh",
        "colab_type": "code",
        "colab": {}
      },
      "source": [
        "data.info()"
      ],
      "execution_count": null,
      "outputs": []
    },
    {
      "cell_type": "code",
      "metadata": {
        "id": "XpYRRPmkXpTO",
        "colab_type": "code",
        "colab": {}
      },
      "source": [
        "data.describe()"
      ],
      "execution_count": null,
      "outputs": []
    },
    {
      "cell_type": "code",
      "metadata": {
        "id": "LbsxdpLOr2oY",
        "colab_type": "code",
        "colab": {}
      },
      "source": [
        "data.shape"
      ],
      "execution_count": null,
      "outputs": []
    },
    {
      "cell_type": "code",
      "metadata": {
        "id": "7slYaLyjf0TR",
        "colab_type": "code",
        "colab": {}
      },
      "source": [
        "data.isnull().sum()"
      ],
      "execution_count": null,
      "outputs": []
    },
    {
      "cell_type": "markdown",
      "metadata": {
        "id": "vbiL2jd_vDYk",
        "colab_type": "text"
      },
      "source": [
        "Step 2"
      ]
    },
    {
      "cell_type": "markdown",
      "metadata": {
        "id": "hK7PtYn_vIi3",
        "colab_type": "text"
      },
      "source": [
        "Checking, if there is anything to clean in the data"
      ]
    },
    {
      "cell_type": "markdown",
      "metadata": {
        "id": "DvYIAB1KsnqR",
        "colab_type": "text"
      },
      "source": [
        "dropping irrelevant columns"
      ]
    },
    {
      "cell_type": "code",
      "metadata": {
        "id": "XF6YvKB3sHfW",
        "colab_type": "code",
        "colab": {}
      },
      "source": [
        "exp=data['Experience']\n",
        "age = data['Age']\n",
        "correlation= exp.corr(age)\n",
        "correlation"
      ],
      "execution_count": null,
      "outputs": []
    },
    {
      "cell_type": "markdown",
      "metadata": {
        "id": "KGwYgEVkvU0V",
        "colab_type": "text"
      },
      "source": [
        "very high correlation in age and experience columns hence droppping the experience column as it is kind of use less in this case.\n",
        "And also id column as it does help the model either"
      ]
    },
    {
      "cell_type": "code",
      "metadata": {
        "id": "dTTj5qUktEJV",
        "colab_type": "code",
        "colab": {}
      },
      "source": [
        "data = data.drop(['ID','Experience'],axis=1)\n",
        "data.head()"
      ],
      "execution_count": null,
      "outputs": []
    },
    {
      "cell_type": "markdown",
      "metadata": {
        "id": "MSvpx4mjwNJY",
        "colab_type": "text"
      },
      "source": [
        "Step 3"
      ]
    },
    {
      "cell_type": "markdown",
      "metadata": {
        "id": "Axm6NOn2wQ1V",
        "colab_type": "text"
      },
      "source": [
        "EDA"
      ]
    },
    {
      "cell_type": "code",
      "metadata": {
        "id": "T9GppgjywP20",
        "colab_type": "code",
        "colab": {
          "base_uri": "https://localhost:8080/",
          "height": 238
        },
        "outputId": "742bd41f-17b8-4e8b-d2f5-362fdea3e3e4"
      },
      "source": [
        "data.apply(lambda x: len(x.unique()))"
      ],
      "execution_count": 16,
      "outputs": [
        {
          "output_type": "execute_result",
          "data": {
            "text/plain": [
              "Age                    45\n",
              "Income                162\n",
              "ZIP Code              467\n",
              "Family                  4\n",
              "CCAvg                 108\n",
              "Education               3\n",
              "Mortgage              347\n",
              "Personal Loan           2\n",
              "Securities Account      2\n",
              "CD Account              2\n",
              "Online                  2\n",
              "CreditCard              2\n",
              "dtype: int64"
            ]
          },
          "metadata": {
            "tags": []
          },
          "execution_count": 16
        }
      ]
    }
  ]
}