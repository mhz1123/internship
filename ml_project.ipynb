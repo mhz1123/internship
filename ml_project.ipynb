{
  "nbformat": 4,
  "nbformat_minor": 0,
  "metadata": {
    "colab": {
      "name": "Untitled",
      "provenance": [],
      "collapsed_sections": [],
      "authorship_tag": "ABX9TyOSzAbYVCJWiR4VYERc8y5K",
      "include_colab_link": true
    },
    "kernelspec": {
      "name": "python3",
      "display_name": "Python 3"
    }
  },
  "cells": [
    {
      "cell_type": "markdown",
      "metadata": {
        "id": "view-in-github",
        "colab_type": "text"
      },
      "source": [
        "<a href=\"https://colab.research.google.com/github/mhz1123/internship/blob/master/ml_project.ipynb\" target=\"_parent\"><img src=\"https://colab.research.google.com/assets/colab-badge.svg\" alt=\"Open In Colab\"/></a>"
      ]
    },
    {
      "cell_type": "markdown",
      "metadata": {
        "id": "BD_3KmFR7y1Y",
        "colab_type": "text"
      },
      "source": [
        "# **Marketing Campaign for Banking Products**\n",
        "\n",
        "\n",
        "---\n",
        "\n"
      ]
    },
    {
      "cell_type": "markdown",
      "metadata": {
        "id": "t5vmsVWK1uGo",
        "colab_type": "text"
      },
      "source": [
        "**Context:**\n",
        "\n",
        "Bank has a growing customer base. The bank wants to increase borrowers (asset customers) base to bring in more loan business and earn more through the interest on loans. So , bank wants to convert the liability based customers to personal loan customers. (while retaining them as depositors). A campaign that the bank ran last year for liability customers showed a healthy conversion rate of over 9% success. The department wants to build a model that will help them identify the potential customers who have higher probability of purchasing the loan. This will increase the success ratio while at the same time reduce the cost of the campaign.\n"
      ]
    },
    {
      "cell_type": "markdown",
      "metadata": {
        "id": "KuxB92ZN7o_A",
        "colab_type": "text"
      },
      "source": [
        "**Objective**:\n",
        "\n",
        "The classification goal is to predict the likelihood of a liability customer buying personal\n",
        "loans.\n"
      ]
    },
    {
      "cell_type": "markdown",
      "metadata": {
        "id": "gRuOZNKOu6kx",
        "colab_type": "text"
      },
      "source": [
        "Step 1"
      ]
    },
    {
      "cell_type": "markdown",
      "metadata": {
        "id": "vMovW7mXXEn5",
        "colab_type": "text"
      },
      "source": [
        "1. Importing the required libraries"
      ]
    },
    {
      "cell_type": "code",
      "metadata": {
        "id": "-iIrSIa6SNgZ",
        "colab_type": "code",
        "colab": {
          "base_uri": "https://localhost:8080/",
          "height": 71
        },
        "outputId": "3265096b-0606-48c5-f884-4515d434b298"
      },
      "source": [
        "import numpy as np          # linear algebra\n",
        "import pandas as pd         # data processing\n",
        "import seaborn as sns       #visualisation\n",
        "import matplotlib.pyplot as plt       #visualisation\n",
        "%matplotlib inline\n",
        "sns.set(style=\"ticks\")\n",
        "\n",
        "\n",
        "\n",
        "\n"
      ],
      "execution_count": 1,
      "outputs": [
        {
          "output_type": "stream",
          "text": [
            "/usr/local/lib/python3.6/dist-packages/statsmodels/tools/_testing.py:19: FutureWarning: pandas.util.testing is deprecated. Use the functions in the public API at pandas.testing instead.\n",
            "  import pandas.util.testing as tm\n"
          ],
          "name": "stderr"
        }
      ]
    },
    {
      "cell_type": "code",
      "metadata": {
        "id": "uzSWbF5c8P9N",
        "colab_type": "code",
        "colab": {}
      },
      "source": [
        "# reading data from the dataset file\n",
        "data = pd.read_excel('Bank_Personal_Loan_Modelling.xlsx','Data')"
      ],
      "execution_count": 3,
      "outputs": []
    },
    {
      "cell_type": "code",
      "metadata": {
        "id": "a8sbv_bCXbLQ",
        "colab_type": "code",
        "colab": {
          "base_uri": "https://localhost:8080/",
          "height": 359
        },
        "outputId": "ed24df9f-e224-4723-aaa4-dbfc2071e7ae"
      },
      "source": [
        "#first 10 rows of the dataset\n",
        "data.head(10)"
      ],
      "execution_count": 4,
      "outputs": [
        {
          "output_type": "execute_result",
          "data": {
            "text/html": [
              "<div>\n",
              "<style scoped>\n",
              "    .dataframe tbody tr th:only-of-type {\n",
              "        vertical-align: middle;\n",
              "    }\n",
              "\n",
              "    .dataframe tbody tr th {\n",
              "        vertical-align: top;\n",
              "    }\n",
              "\n",
              "    .dataframe thead th {\n",
              "        text-align: right;\n",
              "    }\n",
              "</style>\n",
              "<table border=\"1\" class=\"dataframe\">\n",
              "  <thead>\n",
              "    <tr style=\"text-align: right;\">\n",
              "      <th></th>\n",
              "      <th>ID</th>\n",
              "      <th>Age</th>\n",
              "      <th>Experience</th>\n",
              "      <th>Income</th>\n",
              "      <th>ZIP Code</th>\n",
              "      <th>Family</th>\n",
              "      <th>CCAvg</th>\n",
              "      <th>Education</th>\n",
              "      <th>Mortgage</th>\n",
              "      <th>Personal Loan</th>\n",
              "      <th>Securities Account</th>\n",
              "      <th>CD Account</th>\n",
              "      <th>Online</th>\n",
              "      <th>CreditCard</th>\n",
              "    </tr>\n",
              "  </thead>\n",
              "  <tbody>\n",
              "    <tr>\n",
              "      <th>0</th>\n",
              "      <td>1</td>\n",
              "      <td>25</td>\n",
              "      <td>1</td>\n",
              "      <td>49</td>\n",
              "      <td>91107</td>\n",
              "      <td>4</td>\n",
              "      <td>1.6</td>\n",
              "      <td>1</td>\n",
              "      <td>0</td>\n",
              "      <td>0</td>\n",
              "      <td>1</td>\n",
              "      <td>0</td>\n",
              "      <td>0</td>\n",
              "      <td>0</td>\n",
              "    </tr>\n",
              "    <tr>\n",
              "      <th>1</th>\n",
              "      <td>2</td>\n",
              "      <td>45</td>\n",
              "      <td>19</td>\n",
              "      <td>34</td>\n",
              "      <td>90089</td>\n",
              "      <td>3</td>\n",
              "      <td>1.5</td>\n",
              "      <td>1</td>\n",
              "      <td>0</td>\n",
              "      <td>0</td>\n",
              "      <td>1</td>\n",
              "      <td>0</td>\n",
              "      <td>0</td>\n",
              "      <td>0</td>\n",
              "    </tr>\n",
              "    <tr>\n",
              "      <th>2</th>\n",
              "      <td>3</td>\n",
              "      <td>39</td>\n",
              "      <td>15</td>\n",
              "      <td>11</td>\n",
              "      <td>94720</td>\n",
              "      <td>1</td>\n",
              "      <td>1.0</td>\n",
              "      <td>1</td>\n",
              "      <td>0</td>\n",
              "      <td>0</td>\n",
              "      <td>0</td>\n",
              "      <td>0</td>\n",
              "      <td>0</td>\n",
              "      <td>0</td>\n",
              "    </tr>\n",
              "    <tr>\n",
              "      <th>3</th>\n",
              "      <td>4</td>\n",
              "      <td>35</td>\n",
              "      <td>9</td>\n",
              "      <td>100</td>\n",
              "      <td>94112</td>\n",
              "      <td>1</td>\n",
              "      <td>2.7</td>\n",
              "      <td>2</td>\n",
              "      <td>0</td>\n",
              "      <td>0</td>\n",
              "      <td>0</td>\n",
              "      <td>0</td>\n",
              "      <td>0</td>\n",
              "      <td>0</td>\n",
              "    </tr>\n",
              "    <tr>\n",
              "      <th>4</th>\n",
              "      <td>5</td>\n",
              "      <td>35</td>\n",
              "      <td>8</td>\n",
              "      <td>45</td>\n",
              "      <td>91330</td>\n",
              "      <td>4</td>\n",
              "      <td>1.0</td>\n",
              "      <td>2</td>\n",
              "      <td>0</td>\n",
              "      <td>0</td>\n",
              "      <td>0</td>\n",
              "      <td>0</td>\n",
              "      <td>0</td>\n",
              "      <td>1</td>\n",
              "    </tr>\n",
              "    <tr>\n",
              "      <th>5</th>\n",
              "      <td>6</td>\n",
              "      <td>37</td>\n",
              "      <td>13</td>\n",
              "      <td>29</td>\n",
              "      <td>92121</td>\n",
              "      <td>4</td>\n",
              "      <td>0.4</td>\n",
              "      <td>2</td>\n",
              "      <td>155</td>\n",
              "      <td>0</td>\n",
              "      <td>0</td>\n",
              "      <td>0</td>\n",
              "      <td>1</td>\n",
              "      <td>0</td>\n",
              "    </tr>\n",
              "    <tr>\n",
              "      <th>6</th>\n",
              "      <td>7</td>\n",
              "      <td>53</td>\n",
              "      <td>27</td>\n",
              "      <td>72</td>\n",
              "      <td>91711</td>\n",
              "      <td>2</td>\n",
              "      <td>1.5</td>\n",
              "      <td>2</td>\n",
              "      <td>0</td>\n",
              "      <td>0</td>\n",
              "      <td>0</td>\n",
              "      <td>0</td>\n",
              "      <td>1</td>\n",
              "      <td>0</td>\n",
              "    </tr>\n",
              "    <tr>\n",
              "      <th>7</th>\n",
              "      <td>8</td>\n",
              "      <td>50</td>\n",
              "      <td>24</td>\n",
              "      <td>22</td>\n",
              "      <td>93943</td>\n",
              "      <td>1</td>\n",
              "      <td>0.3</td>\n",
              "      <td>3</td>\n",
              "      <td>0</td>\n",
              "      <td>0</td>\n",
              "      <td>0</td>\n",
              "      <td>0</td>\n",
              "      <td>0</td>\n",
              "      <td>1</td>\n",
              "    </tr>\n",
              "    <tr>\n",
              "      <th>8</th>\n",
              "      <td>9</td>\n",
              "      <td>35</td>\n",
              "      <td>10</td>\n",
              "      <td>81</td>\n",
              "      <td>90089</td>\n",
              "      <td>3</td>\n",
              "      <td>0.6</td>\n",
              "      <td>2</td>\n",
              "      <td>104</td>\n",
              "      <td>0</td>\n",
              "      <td>0</td>\n",
              "      <td>0</td>\n",
              "      <td>1</td>\n",
              "      <td>0</td>\n",
              "    </tr>\n",
              "    <tr>\n",
              "      <th>9</th>\n",
              "      <td>10</td>\n",
              "      <td>34</td>\n",
              "      <td>9</td>\n",
              "      <td>180</td>\n",
              "      <td>93023</td>\n",
              "      <td>1</td>\n",
              "      <td>8.9</td>\n",
              "      <td>3</td>\n",
              "      <td>0</td>\n",
              "      <td>1</td>\n",
              "      <td>0</td>\n",
              "      <td>0</td>\n",
              "      <td>0</td>\n",
              "      <td>0</td>\n",
              "    </tr>\n",
              "  </tbody>\n",
              "</table>\n",
              "</div>"
            ],
            "text/plain": [
              "   ID  Age  Experience  ...  CD Account  Online  CreditCard\n",
              "0   1   25           1  ...           0       0           0\n",
              "1   2   45          19  ...           0       0           0\n",
              "2   3   39          15  ...           0       0           0\n",
              "3   4   35           9  ...           0       0           0\n",
              "4   5   35           8  ...           0       0           1\n",
              "5   6   37          13  ...           0       1           0\n",
              "6   7   53          27  ...           0       1           0\n",
              "7   8   50          24  ...           0       0           1\n",
              "8   9   35          10  ...           0       1           0\n",
              "9  10   34           9  ...           0       0           0\n",
              "\n",
              "[10 rows x 14 columns]"
            ]
          },
          "metadata": {
            "tags": []
          },
          "execution_count": 4
        }
      ]
    },
    {
      "cell_type": "code",
      "metadata": {
        "id": "5koeeN17Xdm9",
        "colab_type": "code",
        "colab": {
          "base_uri": "https://localhost:8080/",
          "height": 359
        },
        "outputId": "58f9f82f-7632-4cfd-9972-208286042b41"
      },
      "source": [
        "#last ten rows of the dataset\n",
        "data.tail(10)"
      ],
      "execution_count": 5,
      "outputs": [
        {
          "output_type": "execute_result",
          "data": {
            "text/html": [
              "<div>\n",
              "<style scoped>\n",
              "    .dataframe tbody tr th:only-of-type {\n",
              "        vertical-align: middle;\n",
              "    }\n",
              "\n",
              "    .dataframe tbody tr th {\n",
              "        vertical-align: top;\n",
              "    }\n",
              "\n",
              "    .dataframe thead th {\n",
              "        text-align: right;\n",
              "    }\n",
              "</style>\n",
              "<table border=\"1\" class=\"dataframe\">\n",
              "  <thead>\n",
              "    <tr style=\"text-align: right;\">\n",
              "      <th></th>\n",
              "      <th>ID</th>\n",
              "      <th>Age</th>\n",
              "      <th>Experience</th>\n",
              "      <th>Income</th>\n",
              "      <th>ZIP Code</th>\n",
              "      <th>Family</th>\n",
              "      <th>CCAvg</th>\n",
              "      <th>Education</th>\n",
              "      <th>Mortgage</th>\n",
              "      <th>Personal Loan</th>\n",
              "      <th>Securities Account</th>\n",
              "      <th>CD Account</th>\n",
              "      <th>Online</th>\n",
              "      <th>CreditCard</th>\n",
              "    </tr>\n",
              "  </thead>\n",
              "  <tbody>\n",
              "    <tr>\n",
              "      <th>4990</th>\n",
              "      <td>4991</td>\n",
              "      <td>55</td>\n",
              "      <td>25</td>\n",
              "      <td>58</td>\n",
              "      <td>95023</td>\n",
              "      <td>4</td>\n",
              "      <td>2.000000</td>\n",
              "      <td>3</td>\n",
              "      <td>219</td>\n",
              "      <td>0</td>\n",
              "      <td>0</td>\n",
              "      <td>0</td>\n",
              "      <td>0</td>\n",
              "      <td>1</td>\n",
              "    </tr>\n",
              "    <tr>\n",
              "      <th>4991</th>\n",
              "      <td>4992</td>\n",
              "      <td>51</td>\n",
              "      <td>25</td>\n",
              "      <td>92</td>\n",
              "      <td>91330</td>\n",
              "      <td>1</td>\n",
              "      <td>1.900000</td>\n",
              "      <td>2</td>\n",
              "      <td>100</td>\n",
              "      <td>0</td>\n",
              "      <td>0</td>\n",
              "      <td>0</td>\n",
              "      <td>0</td>\n",
              "      <td>1</td>\n",
              "    </tr>\n",
              "    <tr>\n",
              "      <th>4992</th>\n",
              "      <td>4993</td>\n",
              "      <td>30</td>\n",
              "      <td>5</td>\n",
              "      <td>13</td>\n",
              "      <td>90037</td>\n",
              "      <td>4</td>\n",
              "      <td>0.500000</td>\n",
              "      <td>3</td>\n",
              "      <td>0</td>\n",
              "      <td>0</td>\n",
              "      <td>0</td>\n",
              "      <td>0</td>\n",
              "      <td>0</td>\n",
              "      <td>0</td>\n",
              "    </tr>\n",
              "    <tr>\n",
              "      <th>4993</th>\n",
              "      <td>4994</td>\n",
              "      <td>45</td>\n",
              "      <td>21</td>\n",
              "      <td>218</td>\n",
              "      <td>91801</td>\n",
              "      <td>2</td>\n",
              "      <td>6.666667</td>\n",
              "      <td>1</td>\n",
              "      <td>0</td>\n",
              "      <td>0</td>\n",
              "      <td>0</td>\n",
              "      <td>0</td>\n",
              "      <td>1</td>\n",
              "      <td>0</td>\n",
              "    </tr>\n",
              "    <tr>\n",
              "      <th>4994</th>\n",
              "      <td>4995</td>\n",
              "      <td>64</td>\n",
              "      <td>40</td>\n",
              "      <td>75</td>\n",
              "      <td>94588</td>\n",
              "      <td>3</td>\n",
              "      <td>2.000000</td>\n",
              "      <td>3</td>\n",
              "      <td>0</td>\n",
              "      <td>0</td>\n",
              "      <td>0</td>\n",
              "      <td>0</td>\n",
              "      <td>1</td>\n",
              "      <td>0</td>\n",
              "    </tr>\n",
              "    <tr>\n",
              "      <th>4995</th>\n",
              "      <td>4996</td>\n",
              "      <td>29</td>\n",
              "      <td>3</td>\n",
              "      <td>40</td>\n",
              "      <td>92697</td>\n",
              "      <td>1</td>\n",
              "      <td>1.900000</td>\n",
              "      <td>3</td>\n",
              "      <td>0</td>\n",
              "      <td>0</td>\n",
              "      <td>0</td>\n",
              "      <td>0</td>\n",
              "      <td>1</td>\n",
              "      <td>0</td>\n",
              "    </tr>\n",
              "    <tr>\n",
              "      <th>4996</th>\n",
              "      <td>4997</td>\n",
              "      <td>30</td>\n",
              "      <td>4</td>\n",
              "      <td>15</td>\n",
              "      <td>92037</td>\n",
              "      <td>4</td>\n",
              "      <td>0.400000</td>\n",
              "      <td>1</td>\n",
              "      <td>85</td>\n",
              "      <td>0</td>\n",
              "      <td>0</td>\n",
              "      <td>0</td>\n",
              "      <td>1</td>\n",
              "      <td>0</td>\n",
              "    </tr>\n",
              "    <tr>\n",
              "      <th>4997</th>\n",
              "      <td>4998</td>\n",
              "      <td>63</td>\n",
              "      <td>39</td>\n",
              "      <td>24</td>\n",
              "      <td>93023</td>\n",
              "      <td>2</td>\n",
              "      <td>0.300000</td>\n",
              "      <td>3</td>\n",
              "      <td>0</td>\n",
              "      <td>0</td>\n",
              "      <td>0</td>\n",
              "      <td>0</td>\n",
              "      <td>0</td>\n",
              "      <td>0</td>\n",
              "    </tr>\n",
              "    <tr>\n",
              "      <th>4998</th>\n",
              "      <td>4999</td>\n",
              "      <td>65</td>\n",
              "      <td>40</td>\n",
              "      <td>49</td>\n",
              "      <td>90034</td>\n",
              "      <td>3</td>\n",
              "      <td>0.500000</td>\n",
              "      <td>2</td>\n",
              "      <td>0</td>\n",
              "      <td>0</td>\n",
              "      <td>0</td>\n",
              "      <td>0</td>\n",
              "      <td>1</td>\n",
              "      <td>0</td>\n",
              "    </tr>\n",
              "    <tr>\n",
              "      <th>4999</th>\n",
              "      <td>5000</td>\n",
              "      <td>28</td>\n",
              "      <td>4</td>\n",
              "      <td>83</td>\n",
              "      <td>92612</td>\n",
              "      <td>3</td>\n",
              "      <td>0.800000</td>\n",
              "      <td>1</td>\n",
              "      <td>0</td>\n",
              "      <td>0</td>\n",
              "      <td>0</td>\n",
              "      <td>0</td>\n",
              "      <td>1</td>\n",
              "      <td>1</td>\n",
              "    </tr>\n",
              "  </tbody>\n",
              "</table>\n",
              "</div>"
            ],
            "text/plain": [
              "        ID  Age  Experience  ...  CD Account  Online  CreditCard\n",
              "4990  4991   55          25  ...           0       0           1\n",
              "4991  4992   51          25  ...           0       0           1\n",
              "4992  4993   30           5  ...           0       0           0\n",
              "4993  4994   45          21  ...           0       1           0\n",
              "4994  4995   64          40  ...           0       1           0\n",
              "4995  4996   29           3  ...           0       1           0\n",
              "4996  4997   30           4  ...           0       1           0\n",
              "4997  4998   63          39  ...           0       0           0\n",
              "4998  4999   65          40  ...           0       1           0\n",
              "4999  5000   28           4  ...           0       1           1\n",
              "\n",
              "[10 rows x 14 columns]"
            ]
          },
          "metadata": {
            "tags": []
          },
          "execution_count": 5
        }
      ]
    },
    {
      "cell_type": "code",
      "metadata": {
        "id": "eopN0HV9wm3N",
        "colab_type": "code",
        "colab": {
          "base_uri": "https://localhost:8080/",
          "height": 85
        },
        "outputId": "f6f913bf-64f3-4698-f0f8-c6f3ee970bde"
      },
      "source": [
        "# attributes or features of the dataset\n",
        "data.columns"
      ],
      "execution_count": 6,
      "outputs": [
        {
          "output_type": "execute_result",
          "data": {
            "text/plain": [
              "Index(['ID', 'Age', 'Experience', 'Income', 'ZIP Code', 'Family', 'CCAvg',\n",
              "       'Education', 'Mortgage', 'Personal Loan', 'Securities Account',\n",
              "       'CD Account', 'Online', 'CreditCard'],\n",
              "      dtype='object')"
            ]
          },
          "metadata": {
            "tags": []
          },
          "execution_count": 6
        }
      ]
    },
    {
      "cell_type": "code",
      "metadata": {
        "id": "9JsOMXTAXgSh",
        "colab_type": "code",
        "colab": {
          "base_uri": "https://localhost:8080/",
          "height": 374
        },
        "outputId": "0fdf7455-4a78-4e4e-a904-4b9ac9d8a366"
      },
      "source": [
        "data.info()"
      ],
      "execution_count": 7,
      "outputs": [
        {
          "output_type": "stream",
          "text": [
            "<class 'pandas.core.frame.DataFrame'>\n",
            "RangeIndex: 5000 entries, 0 to 4999\n",
            "Data columns (total 14 columns):\n",
            " #   Column              Non-Null Count  Dtype  \n",
            "---  ------              --------------  -----  \n",
            " 0   ID                  5000 non-null   int64  \n",
            " 1   Age                 5000 non-null   int64  \n",
            " 2   Experience          5000 non-null   int64  \n",
            " 3   Income              5000 non-null   int64  \n",
            " 4   ZIP Code            5000 non-null   int64  \n",
            " 5   Family              5000 non-null   int64  \n",
            " 6   CCAvg               5000 non-null   float64\n",
            " 7   Education           5000 non-null   int64  \n",
            " 8   Mortgage            5000 non-null   int64  \n",
            " 9   Personal Loan       5000 non-null   int64  \n",
            " 10  Securities Account  5000 non-null   int64  \n",
            " 11  CD Account          5000 non-null   int64  \n",
            " 12  Online              5000 non-null   int64  \n",
            " 13  CreditCard          5000 non-null   int64  \n",
            "dtypes: float64(1), int64(13)\n",
            "memory usage: 547.0 KB\n"
          ],
          "name": "stdout"
        }
      ]
    },
    {
      "cell_type": "code",
      "metadata": {
        "id": "XpYRRPmkXpTO",
        "colab_type": "code",
        "colab": {
          "base_uri": "https://localhost:8080/",
          "height": 334
        },
        "outputId": "55a20e02-b6d0-4eea-dbd6-0a8d415ef49a"
      },
      "source": [
        "# descriptive stats. (central tendencies) gives us insight about the data\n",
        "data.describe()"
      ],
      "execution_count": 8,
      "outputs": [
        {
          "output_type": "execute_result",
          "data": {
            "text/html": [
              "<div>\n",
              "<style scoped>\n",
              "    .dataframe tbody tr th:only-of-type {\n",
              "        vertical-align: middle;\n",
              "    }\n",
              "\n",
              "    .dataframe tbody tr th {\n",
              "        vertical-align: top;\n",
              "    }\n",
              "\n",
              "    .dataframe thead th {\n",
              "        text-align: right;\n",
              "    }\n",
              "</style>\n",
              "<table border=\"1\" class=\"dataframe\">\n",
              "  <thead>\n",
              "    <tr style=\"text-align: right;\">\n",
              "      <th></th>\n",
              "      <th>ID</th>\n",
              "      <th>Age</th>\n",
              "      <th>Experience</th>\n",
              "      <th>Income</th>\n",
              "      <th>ZIP Code</th>\n",
              "      <th>Family</th>\n",
              "      <th>CCAvg</th>\n",
              "      <th>Education</th>\n",
              "      <th>Mortgage</th>\n",
              "      <th>Personal Loan</th>\n",
              "      <th>Securities Account</th>\n",
              "      <th>CD Account</th>\n",
              "      <th>Online</th>\n",
              "      <th>CreditCard</th>\n",
              "    </tr>\n",
              "  </thead>\n",
              "  <tbody>\n",
              "    <tr>\n",
              "      <th>count</th>\n",
              "      <td>5000.000000</td>\n",
              "      <td>5000.000000</td>\n",
              "      <td>5000.000000</td>\n",
              "      <td>5000.000000</td>\n",
              "      <td>5000.000000</td>\n",
              "      <td>5000.000000</td>\n",
              "      <td>5000.000000</td>\n",
              "      <td>5000.000000</td>\n",
              "      <td>5000.000000</td>\n",
              "      <td>5000.000000</td>\n",
              "      <td>5000.000000</td>\n",
              "      <td>5000.00000</td>\n",
              "      <td>5000.000000</td>\n",
              "      <td>5000.000000</td>\n",
              "    </tr>\n",
              "    <tr>\n",
              "      <th>mean</th>\n",
              "      <td>2500.500000</td>\n",
              "      <td>45.338400</td>\n",
              "      <td>20.104600</td>\n",
              "      <td>73.774200</td>\n",
              "      <td>93152.503000</td>\n",
              "      <td>2.396400</td>\n",
              "      <td>1.937913</td>\n",
              "      <td>1.881000</td>\n",
              "      <td>56.498800</td>\n",
              "      <td>0.096000</td>\n",
              "      <td>0.104400</td>\n",
              "      <td>0.06040</td>\n",
              "      <td>0.596800</td>\n",
              "      <td>0.294000</td>\n",
              "    </tr>\n",
              "    <tr>\n",
              "      <th>std</th>\n",
              "      <td>1443.520003</td>\n",
              "      <td>11.463166</td>\n",
              "      <td>11.467954</td>\n",
              "      <td>46.033729</td>\n",
              "      <td>2121.852197</td>\n",
              "      <td>1.147663</td>\n",
              "      <td>1.747666</td>\n",
              "      <td>0.839869</td>\n",
              "      <td>101.713802</td>\n",
              "      <td>0.294621</td>\n",
              "      <td>0.305809</td>\n",
              "      <td>0.23825</td>\n",
              "      <td>0.490589</td>\n",
              "      <td>0.455637</td>\n",
              "    </tr>\n",
              "    <tr>\n",
              "      <th>min</th>\n",
              "      <td>1.000000</td>\n",
              "      <td>23.000000</td>\n",
              "      <td>-3.000000</td>\n",
              "      <td>8.000000</td>\n",
              "      <td>9307.000000</td>\n",
              "      <td>1.000000</td>\n",
              "      <td>0.000000</td>\n",
              "      <td>1.000000</td>\n",
              "      <td>0.000000</td>\n",
              "      <td>0.000000</td>\n",
              "      <td>0.000000</td>\n",
              "      <td>0.00000</td>\n",
              "      <td>0.000000</td>\n",
              "      <td>0.000000</td>\n",
              "    </tr>\n",
              "    <tr>\n",
              "      <th>25%</th>\n",
              "      <td>1250.750000</td>\n",
              "      <td>35.000000</td>\n",
              "      <td>10.000000</td>\n",
              "      <td>39.000000</td>\n",
              "      <td>91911.000000</td>\n",
              "      <td>1.000000</td>\n",
              "      <td>0.700000</td>\n",
              "      <td>1.000000</td>\n",
              "      <td>0.000000</td>\n",
              "      <td>0.000000</td>\n",
              "      <td>0.000000</td>\n",
              "      <td>0.00000</td>\n",
              "      <td>0.000000</td>\n",
              "      <td>0.000000</td>\n",
              "    </tr>\n",
              "    <tr>\n",
              "      <th>50%</th>\n",
              "      <td>2500.500000</td>\n",
              "      <td>45.000000</td>\n",
              "      <td>20.000000</td>\n",
              "      <td>64.000000</td>\n",
              "      <td>93437.000000</td>\n",
              "      <td>2.000000</td>\n",
              "      <td>1.500000</td>\n",
              "      <td>2.000000</td>\n",
              "      <td>0.000000</td>\n",
              "      <td>0.000000</td>\n",
              "      <td>0.000000</td>\n",
              "      <td>0.00000</td>\n",
              "      <td>1.000000</td>\n",
              "      <td>0.000000</td>\n",
              "    </tr>\n",
              "    <tr>\n",
              "      <th>75%</th>\n",
              "      <td>3750.250000</td>\n",
              "      <td>55.000000</td>\n",
              "      <td>30.000000</td>\n",
              "      <td>98.000000</td>\n",
              "      <td>94608.000000</td>\n",
              "      <td>3.000000</td>\n",
              "      <td>2.500000</td>\n",
              "      <td>3.000000</td>\n",
              "      <td>101.000000</td>\n",
              "      <td>0.000000</td>\n",
              "      <td>0.000000</td>\n",
              "      <td>0.00000</td>\n",
              "      <td>1.000000</td>\n",
              "      <td>1.000000</td>\n",
              "    </tr>\n",
              "    <tr>\n",
              "      <th>max</th>\n",
              "      <td>5000.000000</td>\n",
              "      <td>67.000000</td>\n",
              "      <td>43.000000</td>\n",
              "      <td>224.000000</td>\n",
              "      <td>96651.000000</td>\n",
              "      <td>4.000000</td>\n",
              "      <td>10.000000</td>\n",
              "      <td>3.000000</td>\n",
              "      <td>635.000000</td>\n",
              "      <td>1.000000</td>\n",
              "      <td>1.000000</td>\n",
              "      <td>1.00000</td>\n",
              "      <td>1.000000</td>\n",
              "      <td>1.000000</td>\n",
              "    </tr>\n",
              "  </tbody>\n",
              "</table>\n",
              "</div>"
            ],
            "text/plain": [
              "                ID          Age  ...       Online   CreditCard\n",
              "count  5000.000000  5000.000000  ...  5000.000000  5000.000000\n",
              "mean   2500.500000    45.338400  ...     0.596800     0.294000\n",
              "std    1443.520003    11.463166  ...     0.490589     0.455637\n",
              "min       1.000000    23.000000  ...     0.000000     0.000000\n",
              "25%    1250.750000    35.000000  ...     0.000000     0.000000\n",
              "50%    2500.500000    45.000000  ...     1.000000     0.000000\n",
              "75%    3750.250000    55.000000  ...     1.000000     1.000000\n",
              "max    5000.000000    67.000000  ...     1.000000     1.000000\n",
              "\n",
              "[8 rows x 14 columns]"
            ]
          },
          "metadata": {
            "tags": []
          },
          "execution_count": 8
        }
      ]
    },
    {
      "cell_type": "markdown",
      "metadata": {
        "id": "AfzObkoF9x9G",
        "colab_type": "text"
      },
      "source": [
        "**Inference**\n",
        "\n",
        "Among these 5000 customers, only 9.6% accepted the personal loan that was\n",
        "offered to them in the earlier campaign.\n",
        "\n",
        "Only 10.4% have securities account \n",
        "\n",
        "Only 6.04%  have a certificate of deposit (CD) account with\n",
        "the bank\n",
        "\n",
        "59.6% use online banking facalities\n",
        "\n",
        "29.4% use a credit card issued by the bank"
      ]
    },
    {
      "cell_type": "code",
      "metadata": {
        "id": "LbsxdpLOr2oY",
        "colab_type": "code",
        "colab": {
          "base_uri": "https://localhost:8080/",
          "height": 34
        },
        "outputId": "ad55b43c-3ee5-4433-86d4-90c4936fdc54"
      },
      "source": [
        "# shape of the data or dimensionality of the dataset\n",
        "data.shape"
      ],
      "execution_count": 9,
      "outputs": [
        {
          "output_type": "execute_result",
          "data": {
            "text/plain": [
              "(5000, 14)"
            ]
          },
          "metadata": {
            "tags": []
          },
          "execution_count": 9
        }
      ]
    },
    {
      "cell_type": "code",
      "metadata": {
        "id": "7slYaLyjf0TR",
        "colab_type": "code",
        "colab": {
          "base_uri": "https://localhost:8080/",
          "height": 272
        },
        "outputId": "90801f3e-653e-410d-9657-731e5272df5b"
      },
      "source": [
        "#checking if there are any null values in the data(if any impute them with median, not mean as it is very sensitive to outliers)\n",
        "data.isnull().sum()"
      ],
      "execution_count": null,
      "outputs": [
        {
          "output_type": "execute_result",
          "data": {
            "text/plain": [
              "ID                    0\n",
              "Age                   0\n",
              "Experience            0\n",
              "Income                0\n",
              "ZIP Code              0\n",
              "Family                0\n",
              "CCAvg                 0\n",
              "Education             0\n",
              "Mortgage              0\n",
              "Personal Loan         0\n",
              "Securities Account    0\n",
              "CD Account            0\n",
              "Online                0\n",
              "CreditCard            0\n",
              "dtype: int64"
            ]
          },
          "metadata": {
            "tags": []
          },
          "execution_count": 31
        }
      ]
    },
    {
      "cell_type": "markdown",
      "metadata": {
        "id": "yxuP-kFX4tzM",
        "colab_type": "text"
      },
      "source": [
        " **Information on the features or attributes.** \n",
        "\n",
        "**The attributes can be divided accordingly :**\n",
        "\n",
        "The variable ID does not add any interesting information. There is no association between a person's customer ID and loan, also it does not provide any general conclusion for future potential loan customers. We can neglect this information for our model prediction.\n",
        "\n",
        "**The binary category have five variables as below**:\n",
        "\n",
        ">**Personal Loan** - Did this customer accept the personal loan offered in the last campaign? *This is our target variable*\n",
        "\n",
        ">**Securities Account** - Does the customer have a securities account with the bank?\n",
        "\n",
        ">**CD Account** - Does the customer have a certificate of deposit (CD) account with the bank?\n",
        "\n",
        ">**Online** - Does the customer use internet banking facilities?\n",
        "\n",
        ">**Credit Card** - Does the customer use a credit card issued by UniversalBank?\n",
        "\n",
        "\n",
        "**Interval variables are as below:**\n",
        "\n",
        ">**Age** - Age of the customer\n",
        "\n",
        ">**Experience** - Years of experience\n",
        "\n",
        ">**Income** - Annual income in dollars\n",
        "\n",
        ">**CCAvg** - Average credit card spending\n",
        "\n",
        ">**Mortage** - Value of House Mortgage\n",
        "\n",
        "**Ordinal Categorical Variables are:**\n",
        "\n",
        ">**Family** - Family size of the customer\n",
        "\n",
        ">**Education** - education level of the customer\n",
        "\n",
        "**The nominal variable is :**\n",
        "\n",
        ">ID\n",
        "\n",
        ">Zip Code\n",
        "\n",
        "\n"
      ]
    },
    {
      "cell_type": "markdown",
      "metadata": {
        "id": "vbiL2jd_vDYk",
        "colab_type": "text"
      },
      "source": [
        "Step 2"
      ]
    },
    {
      "cell_type": "markdown",
      "metadata": {
        "id": "hK7PtYn_vIi3",
        "colab_type": "text"
      },
      "source": [
        "Checking, if there is anything to clean in the data"
      ]
    },
    {
      "cell_type": "markdown",
      "metadata": {
        "id": "DvYIAB1KsnqR",
        "colab_type": "text"
      },
      "source": [
        "*   dropping irrelevant columns\n",
        "\n",
        "\n",
        "\n"
      ]
    },
    {
      "cell_type": "markdown",
      "metadata": {
        "id": "681vLTla8kpF",
        "colab_type": "text"
      },
      "source": [
        "Here we can see that experience is not that use full for our model, so, we can neglect it, but first lets check its correlation with age as it seems to highly correlate with age"
      ]
    },
    {
      "cell_type": "code",
      "metadata": {
        "id": "XF6YvKB3sHfW",
        "colab_type": "code",
        "colab": {
          "base_uri": "https://localhost:8080/",
          "height": 34
        },
        "outputId": "a1269495-bb1c-425a-d4dd-70385364fa7f"
      },
      "source": [
        "exp=data['Experience']\n",
        "age = data['Age']\n",
        "correlation= exp.corr(age)\n",
        "correlation"
      ],
      "execution_count": null,
      "outputs": [
        {
          "output_type": "execute_result",
          "data": {
            "text/plain": [
              "0.9942148569683321"
            ]
          },
          "metadata": {
            "tags": []
          },
          "execution_count": 32
        }
      ]
    },
    {
      "cell_type": "markdown",
      "metadata": {
        "id": "KGwYgEVkvU0V",
        "colab_type": "text"
      },
      "source": [
        "*  very high correlation in age and experience columns hence droppping the experience column as it is kind of use less in this case.\n",
        "\n",
        "*  And also id column as it does help the model either, as discussed earlier."
      ]
    },
    {
      "cell_type": "code",
      "metadata": {
        "id": "dTTj5qUktEJV",
        "colab_type": "code",
        "colab": {
          "base_uri": "https://localhost:8080/",
          "height": 204
        },
        "outputId": "06b6cc5b-f12f-47b1-e2b1-797d7d212753"
      },
      "source": [
        "# deleting the id and experience columns\n",
        "data = data.drop(['ID','Experience'],axis=1)\n",
        "data.head()"
      ],
      "execution_count": null,
      "outputs": [
        {
          "output_type": "execute_result",
          "data": {
            "text/html": [
              "<div>\n",
              "<style scoped>\n",
              "    .dataframe tbody tr th:only-of-type {\n",
              "        vertical-align: middle;\n",
              "    }\n",
              "\n",
              "    .dataframe tbody tr th {\n",
              "        vertical-align: top;\n",
              "    }\n",
              "\n",
              "    .dataframe thead th {\n",
              "        text-align: right;\n",
              "    }\n",
              "</style>\n",
              "<table border=\"1\" class=\"dataframe\">\n",
              "  <thead>\n",
              "    <tr style=\"text-align: right;\">\n",
              "      <th></th>\n",
              "      <th>Age</th>\n",
              "      <th>Income</th>\n",
              "      <th>ZIP Code</th>\n",
              "      <th>Family</th>\n",
              "      <th>CCAvg</th>\n",
              "      <th>Education</th>\n",
              "      <th>Mortgage</th>\n",
              "      <th>Personal Loan</th>\n",
              "      <th>Securities Account</th>\n",
              "      <th>CD Account</th>\n",
              "      <th>Online</th>\n",
              "      <th>CreditCard</th>\n",
              "    </tr>\n",
              "  </thead>\n",
              "  <tbody>\n",
              "    <tr>\n",
              "      <th>0</th>\n",
              "      <td>25</td>\n",
              "      <td>49</td>\n",
              "      <td>91107</td>\n",
              "      <td>4</td>\n",
              "      <td>1.6</td>\n",
              "      <td>1</td>\n",
              "      <td>0</td>\n",
              "      <td>0</td>\n",
              "      <td>1</td>\n",
              "      <td>0</td>\n",
              "      <td>0</td>\n",
              "      <td>0</td>\n",
              "    </tr>\n",
              "    <tr>\n",
              "      <th>1</th>\n",
              "      <td>45</td>\n",
              "      <td>34</td>\n",
              "      <td>90089</td>\n",
              "      <td>3</td>\n",
              "      <td>1.5</td>\n",
              "      <td>1</td>\n",
              "      <td>0</td>\n",
              "      <td>0</td>\n",
              "      <td>1</td>\n",
              "      <td>0</td>\n",
              "      <td>0</td>\n",
              "      <td>0</td>\n",
              "    </tr>\n",
              "    <tr>\n",
              "      <th>2</th>\n",
              "      <td>39</td>\n",
              "      <td>11</td>\n",
              "      <td>94720</td>\n",
              "      <td>1</td>\n",
              "      <td>1.0</td>\n",
              "      <td>1</td>\n",
              "      <td>0</td>\n",
              "      <td>0</td>\n",
              "      <td>0</td>\n",
              "      <td>0</td>\n",
              "      <td>0</td>\n",
              "      <td>0</td>\n",
              "    </tr>\n",
              "    <tr>\n",
              "      <th>3</th>\n",
              "      <td>35</td>\n",
              "      <td>100</td>\n",
              "      <td>94112</td>\n",
              "      <td>1</td>\n",
              "      <td>2.7</td>\n",
              "      <td>2</td>\n",
              "      <td>0</td>\n",
              "      <td>0</td>\n",
              "      <td>0</td>\n",
              "      <td>0</td>\n",
              "      <td>0</td>\n",
              "      <td>0</td>\n",
              "    </tr>\n",
              "    <tr>\n",
              "      <th>4</th>\n",
              "      <td>35</td>\n",
              "      <td>45</td>\n",
              "      <td>91330</td>\n",
              "      <td>4</td>\n",
              "      <td>1.0</td>\n",
              "      <td>2</td>\n",
              "      <td>0</td>\n",
              "      <td>0</td>\n",
              "      <td>0</td>\n",
              "      <td>0</td>\n",
              "      <td>0</td>\n",
              "      <td>1</td>\n",
              "    </tr>\n",
              "  </tbody>\n",
              "</table>\n",
              "</div>"
            ],
            "text/plain": [
              "   Age  Income  ZIP Code  ...  CD Account  Online  CreditCard\n",
              "0   25      49     91107  ...           0       0           0\n",
              "1   45      34     90089  ...           0       0           0\n",
              "2   39      11     94720  ...           0       0           0\n",
              "3   35     100     94112  ...           0       0           0\n",
              "4   35      45     91330  ...           0       0           1\n",
              "\n",
              "[5 rows x 12 columns]"
            ]
          },
          "metadata": {
            "tags": []
          },
          "execution_count": 33
        }
      ]
    },
    {
      "cell_type": "markdown",
      "metadata": {
        "id": "RCEo5njHAW8W",
        "colab_type": "text"
      },
      "source": [
        "*  Now, as the data is cleaned, let's move on to EDA"
      ]
    },
    {
      "cell_type": "markdown",
      "metadata": {
        "id": "MSvpx4mjwNJY",
        "colab_type": "text"
      },
      "source": [
        "Step 3"
      ]
    },
    {
      "cell_type": "markdown",
      "metadata": {
        "id": "Axm6NOn2wQ1V",
        "colab_type": "text"
      },
      "source": [
        "**EDA**"
      ]
    },
    {
      "cell_type": "code",
      "metadata": {
        "id": "T9GppgjywP20",
        "colab_type": "code",
        "colab": {
          "base_uri": "https://localhost:8080/",
          "height": 238
        },
        "outputId": "ec5f5b9b-62f6-49c0-94bb-4c36acbdedff"
      },
      "source": [
        "# finding the number of unique values in the data for each column\n",
        "data.apply(lambda x: len(x.unique()))"
      ],
      "execution_count": null,
      "outputs": [
        {
          "output_type": "execute_result",
          "data": {
            "text/plain": [
              "Age                    45\n",
              "Income                162\n",
              "ZIP Code              467\n",
              "Family                  4\n",
              "CCAvg                 108\n",
              "Education               3\n",
              "Mortgage              347\n",
              "Personal Loan           2\n",
              "Securities Account      2\n",
              "CD Account              2\n",
              "Online                  2\n",
              "CreditCard              2\n",
              "dtype: int64"
            ]
          },
          "metadata": {
            "tags": []
          },
          "execution_count": 34
        }
      ]
    },
    {
      "cell_type": "code",
      "metadata": {
        "id": "QFLIi1IIhIiP",
        "colab_type": "code",
        "colab": {
          "base_uri": "https://localhost:8080/",
          "height": 34
        },
        "outputId": "3aa50a3b-0629-4ef0-db20-9cb571dcbdd6"
      },
      "source": [
        "# number of people with zero mortgage \n",
        "data.query('Mortgage == \"0\"').Mortgage.count()"
      ],
      "execution_count": null,
      "outputs": [
        {
          "output_type": "execute_result",
          "data": {
            "text/plain": [
              "3462"
            ]
          },
          "metadata": {
            "tags": []
          },
          "execution_count": 35
        }
      ]
    },
    {
      "cell_type": "code",
      "metadata": {
        "id": "rwf4pUreoV0q",
        "colab_type": "code",
        "colab": {
          "base_uri": "https://localhost:8080/",
          "height": 34
        },
        "outputId": "b0d316ac-222a-40bb-d6f4-fe43af505a5e"
      },
      "source": [
        "#number of people with zero average spending on credit cards per month ($000)\n",
        "data.query('CCAvg == \"0\"').CCAvg.count()"
      ],
      "execution_count": null,
      "outputs": [
        {
          "output_type": "execute_result",
          "data": {
            "text/plain": [
              "106"
            ]
          },
          "metadata": {
            "tags": []
          },
          "execution_count": 36
        }
      ]
    },
    {
      "cell_type": "code",
      "metadata": {
        "id": "yV21WztvpCbN",
        "colab_type": "code",
        "colab": {
          "base_uri": "https://localhost:8080/",
          "height": 1000
        },
        "outputId": "938fdff6-4daf-461b-81aa-8c2c63ade860"
      },
      "source": [
        "# value count of all columns, i.e, frequency of values occuring in the columns\n",
        "for column in data.columns:\n",
        "     print(\"\\n\" + column)\n",
        "     print(data[column].value_counts())\n"
      ],
      "execution_count": null,
      "outputs": [
        {
          "output_type": "stream",
          "text": [
            "\n",
            "Age\n",
            "35    151\n",
            "43    149\n",
            "52    145\n",
            "58    143\n",
            "54    143\n",
            "50    138\n",
            "41    136\n",
            "30    136\n",
            "56    135\n",
            "34    134\n",
            "39    133\n",
            "59    132\n",
            "57    132\n",
            "51    129\n",
            "60    127\n",
            "45    127\n",
            "46    127\n",
            "42    126\n",
            "40    125\n",
            "31    125\n",
            "55    125\n",
            "62    123\n",
            "29    123\n",
            "61    122\n",
            "44    121\n",
            "32    120\n",
            "33    120\n",
            "48    118\n",
            "38    115\n",
            "49    115\n",
            "47    113\n",
            "53    112\n",
            "63    108\n",
            "36    107\n",
            "37    106\n",
            "28    103\n",
            "27     91\n",
            "65     80\n",
            "64     78\n",
            "26     78\n",
            "25     53\n",
            "24     28\n",
            "66     24\n",
            "23     12\n",
            "67     12\n",
            "Name: Age, dtype: int64\n",
            "\n",
            "Income\n",
            "44     85\n",
            "38     84\n",
            "81     83\n",
            "41     82\n",
            "39     81\n",
            "       ..\n",
            "189     2\n",
            "202     2\n",
            "205     2\n",
            "224     1\n",
            "218     1\n",
            "Name: Income, Length: 162, dtype: int64\n",
            "\n",
            "ZIP Code\n",
            "94720    169\n",
            "94305    127\n",
            "95616    116\n",
            "90095     71\n",
            "93106     57\n",
            "        ... \n",
            "96145      1\n",
            "94970      1\n",
            "94598      1\n",
            "90068      1\n",
            "94087      1\n",
            "Name: ZIP Code, Length: 467, dtype: int64\n",
            "\n",
            "Family\n",
            "1    1472\n",
            "2    1296\n",
            "4    1222\n",
            "3    1010\n",
            "Name: Family, dtype: int64\n",
            "\n",
            "CCAvg\n",
            "0.300000    241\n",
            "1.000000    231\n",
            "0.200000    204\n",
            "2.000000    188\n",
            "0.800000    187\n",
            "           ... \n",
            "8.200000      1\n",
            "5.333333      1\n",
            "4.666667      1\n",
            "8.900000      1\n",
            "9.300000      1\n",
            "Name: CCAvg, Length: 108, dtype: int64\n",
            "\n",
            "Education\n",
            "1    2096\n",
            "3    1501\n",
            "2    1403\n",
            "Name: Education, dtype: int64\n",
            "\n",
            "Mortgage\n",
            "0      3462\n",
            "98       17\n",
            "103      16\n",
            "119      16\n",
            "83       16\n",
            "       ... \n",
            "541       1\n",
            "509       1\n",
            "505       1\n",
            "485       1\n",
            "577       1\n",
            "Name: Mortgage, Length: 347, dtype: int64\n",
            "\n",
            "Personal Loan\n",
            "0    4520\n",
            "1     480\n",
            "Name: Personal Loan, dtype: int64\n",
            "\n",
            "Securities Account\n",
            "0    4478\n",
            "1     522\n",
            "Name: Securities Account, dtype: int64\n",
            "\n",
            "CD Account\n",
            "0    4698\n",
            "1     302\n",
            "Name: CD Account, dtype: int64\n",
            "\n",
            "Online\n",
            "1    2984\n",
            "0    2016\n",
            "Name: Online, dtype: int64\n",
            "\n",
            "CreditCard\n",
            "0    3530\n",
            "1    1470\n",
            "Name: CreditCard, dtype: int64\n"
          ],
          "name": "stdout"
        }
      ]
    },
    {
      "cell_type": "markdown",
      "metadata": {
        "id": "cB3OLypRFb-6",
        "colab_type": "text"
      },
      "source": [
        "*  From the above data we get a very good knowledge about the data\n",
        "\n",
        "For example:\n",
        "\n",
        ">3530 use credit card issued by the bank and 1470 dont\n",
        "\n",
        ">2984 use online banking facilities and 2016 dont\n",
        "\n",
        ">480 accepted the personal loan offered in the last\n",
        "campaign\n",
        "\n",
        "etc."
      ]
    }
  ]
}